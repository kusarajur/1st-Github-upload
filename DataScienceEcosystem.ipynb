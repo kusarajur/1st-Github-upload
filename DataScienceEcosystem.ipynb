{
 "cells": [
  {
   "cell_type": "markdown",
   "id": "ddfa61a3-6774-4bb8-862d-23b865717972",
   "metadata": {},
   "source": [
    "#Data Science Tools and Ecosystem"
   ]
  },
  {
   "cell_type": "markdown",
   "id": "4a4b10eb-fade-41ec-a9e0-5b62d1eac694",
   "metadata": {},
   "source": [
    "#In this notebook, Data Science Tools and Ecosystem are summarized."
   ]
  },
  {
   "cell_type": "markdown",
   "id": "2104f321-3529-496a-98d7-f2aaf9db5f3a",
   "metadata": {},
   "source": [
    "#Some of the popular languagesthat Data Scientists use are:\n",
    "\n",
    "1. Python\n",
    "2. R\n",
    "3. SQL"
   ]
  },
  {
   "cell_type": "markdown",
   "id": "de106741-e394-4425-acb4-be011b566d4b",
   "metadata": {},
   "source": [
    "#Some of the commonly used libraries used by Data Scientists include:\n",
    "\n",
    "1. Numpy\n",
    "2. Matplotlib\n",
    "3. scikit-learn "
   ]
  },
  {
   "cell_type": "markdown",
   "id": "984e3e0f-08c2-4f91-b6e1-354402e96230",
   "metadata": {},
   "source": [
    "#Data Science Tools\n",
    "\n",
    "|Data Science Tools|\n",
    "|------------------|\n",
    "|Numpy|\n",
    "|scikit-learn |\n",
    "|keras|"
   ]
  },
  {
   "cell_type": "markdown",
   "id": "edeaee20-f241-4976-8f50-9ecfb59e189f",
   "metadata": {},
   "source": [
    "### Below are a few examples of evaluating arithmetic expressions in Python\n",
    "\n",
    "a= 10\\\n",
    "b= 20\\\n",
    "a + b"
   ]
  },
  {
   "cell_type": "code",
   "execution_count": 41,
   "id": "f5d3a62d-3a97-477c-893f-1e99f67b0337",
   "metadata": {},
   "outputs": [
    {
     "data": {
      "text/plain": [
       "17"
      ]
     },
     "execution_count": 41,
     "metadata": {},
     "output_type": "execute_result"
    }
   ],
   "source": [
    "#  This a simple arithmetic expression to mutiply then add integers\n",
    "(3*4)+5"
   ]
  },
  {
   "cell_type": "code",
   "execution_count": 42,
   "id": "739107ba-5056-4fd0-a9ab-72fe9b4f2f8f",
   "metadata": {},
   "outputs": [
    {
     "data": {
      "text/plain": [
       "3.3333333333333335"
      ]
     },
     "execution_count": 42,
     "metadata": {},
     "output_type": "execute_result"
    }
   ],
   "source": [
    "# This will convert 200 minutes to hours by diving by 60.\n",
    "200/60"
   ]
  },
  {
   "cell_type": "markdown",
   "id": "d13e1c4e-2dc6-4e4d-8337-fa50819cc27f",
   "metadata": {},
   "source": [
    "__# Objectives:__\n",
    "\n",
    "- Python\n",
    "- R\n",
    "- SQL"
   ]
  },
  {
   "cell_type": "markdown",
   "id": "894715cd-101a-476a-9992-8d6b8cdc1b3e",
   "metadata": {},
   "source": [
    "## Author\n",
    "Kusaraju Ruthala"
   ]
  }
 ],
 "metadata": {
  "kernelspec": {
   "display_name": "Python 3 (ipykernel)",
   "language": "python",
   "name": "python3"
  },
  "language_info": {
   "codemirror_mode": {
    "name": "ipython",
    "version": 3
   },
   "file_extension": ".py",
   "mimetype": "text/x-python",
   "name": "python",
   "nbconvert_exporter": "python",
   "pygments_lexer": "ipython3",
   "version": "3.12.4"
  }
 },
 "nbformat": 4,
 "nbformat_minor": 5
}
